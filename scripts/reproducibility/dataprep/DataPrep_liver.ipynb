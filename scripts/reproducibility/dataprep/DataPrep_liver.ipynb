{
 "cells": [
  {
   "cell_type": "code",
   "execution_count": 1,
   "metadata": {
    "collapsed": true
   },
   "outputs": [],
   "source": [
    "import numpy as np\n",
    "from tifffile import imread, imsave\n",
    "from glob import glob\n",
    "import random\n",
    "import tqdm\n",
    "from matplotlib import pyplot as plt\n",
    "from sklearn.feature_extraction import image"
   ]
  },
  {
   "cell_type": "code",
   "execution_count": 2,
   "metadata": {
    "collapsed": true
   },
   "outputs": [],
   "source": [
    "X = sorted(glob(\"/Users/prakash/Desktop/liver/images/*.tif\"))"
   ]
  },
  {
   "cell_type": "code",
   "execution_count": 3,
   "metadata": {
    "scrolled": true
   },
   "outputs": [
    {
     "data": {
      "image/png": "[encoded data removed]",
      "text/plain": [
       "<matplotlib.figure.Figure at 0x119b6c400>"
      ]
     },
     "metadata": {},
     "output_type": "display_data"
    }
   ],
   "source": [
    "X = list(map(imread,X))\n",
    "plt.subplot(121); plt.imshow(X[9],cmap='gray');   plt.axis('off'); plt.title('Raw image'); plt.show()"
   ]
  },
  {
   "cell_type": "code",
   "execution_count": 4,
   "metadata": {},
   "outputs": [
    {
     "name": "stdout",
     "output_type": "stream",
     "text": [
      "number of images: 300\n"
     ]
    }
   ],
   "source": [
    "rng = np.random.RandomState(42)\n",
    "ind = rng.permutation(len(X))\n",
    "X = [X[i] for i in ind]\n",
    "\n",
    "print('number of images: %3d' % len(X))\n"
   ]
  },
  {
   "cell_type": "code",
   "execution_count": 5,
   "metadata": {
    "collapsed": true
   },
   "outputs": [],
   "source": [
    "for i in range(len(X)):\n",
    "    imsave('/Users/prakash/Desktop/liver/shuffled_images/'+str(i)+'.tif', X[i])"
   ]
  },
  {
   "cell_type": "code",
   "execution_count": 6,
   "metadata": {
    "collapsed": true
   },
   "outputs": [],
   "source": [
    "count =0\n",
    "for i in range (len(X)):\n",
    "    patchesimages = image.extract_patches_2d(X[i], patch_size=(128,128), max_patches=6, random_state=0)\n",
    "    for j in range(0, np.shape(patchesimages)[0]):\n",
    "        imsave('/Users/prakash/Desktop/liver/patches/raw/'+str(count).zfill(4)+'.tif', patchesimages[j])\n",
    "        count+=1"
   ]
  },
  {
   "cell_type": "markdown",
   "metadata": {},
   "source": [
    "### Manual annotations of 14 patches was performed at this step. The images chosen for manual annotation were chosen at random depending on the convenience of annotation and also to ensure some diversity. Some were then randomly chosen as validation and rest as train"
   ]
  },
  {
   "cell_type": "markdown",
   "metadata": {},
   "source": [
    "###### Next the images and their annotations (thos ewhich were not annotated are assigned with zero masks) were then read in next cell."
   ]
  },
  {
   "cell_type": "code",
   "execution_count": 53,
   "metadata": {
    "collapsed": true
   },
   "outputs": [],
   "source": [
    "X_train = sorted(glob(\"/Users/prakash/Desktop/liver/patches/imageswithgt/raw/*.tif\"))\n",
    "Y_train = sorted(glob(\"/Users/prakash/Desktop/liver/patches/imageswithgt/labels/*.tif\"))"
   ]
  },
  {
   "cell_type": "code",
   "execution_count": 56,
   "metadata": {
    "collapsed": true
   },
   "outputs": [],
   "source": [
    "X_val = sorted(glob(\"/Users/prakash/Desktop/liver/val/raw/*.tif\"))\n",
    "Y_val = sorted(glob(\"/Users/prakash/Desktop/liver/val/gt/*.tif\"))"
   ]
  },
  {
   "cell_type": "code",
   "execution_count": 57,
   "metadata": {
    "collapsed": true
   },
   "outputs": [],
   "source": [
    "X_test = sorted(glob(\"/Users/prakash/Desktop/liver/test/images/*.tif\"))\n",
    "Y_test = sorted(glob(\"/Users/prakash/Desktop/liver/test/labels/*.tif\"))"
   ]
  },
  {
   "cell_type": "code",
   "execution_count": 58,
   "metadata": {
    "collapsed": true
   },
   "outputs": [],
   "source": [
    "X_train = list(map(imread,X_train))\n",
    "Y_train = list(map(imread,Y_train))\n",
    "\n",
    "X_val = list(map(imread,X_val))\n",
    "Y_val = list(map(imread,Y_val))\n",
    "\n",
    "X_test = list(map(imread,X_test))\n",
    "Y_test = list(map(imread,Y_test))"
   ]
  },
  {
   "cell_type": "code",
   "execution_count": 66,
   "metadata": {
    "collapsed": true
   },
   "outputs": [],
   "source": [
    "X_train = np.array(X_train)\n",
    "Y_train = np.array(Y_train)\n",
    "X_val = np.array(X_val)\n",
    "Y_val = np.array(Y_val)\n",
    "X_test = np.array(X_test)\n",
    "Y_test = np.array(Y_test)"
   ]
  },
  {
   "cell_type": "code",
   "execution_count": 67,
   "metadata": {
    "collapsed": true
   },
   "outputs": [],
   "source": [
    "np.savez_compressed('/Users/prakash/Desktop/liver/train/train_data.npz', X_train=X_train, Y_train=Y_train, X_val=X_val, Y_val=Y_val)\n",
    "np.savez_compressed('/Users/prakash/Desktop/liver/test/test_data.npz', X_test=X_test, Y_test=Y_test)"
   ]
  },
  {
   "cell_type": "code",
   "execution_count": null,
   "metadata": {
    "collapsed": true
   },
   "outputs": [],
   "source": []
  }
 ],
 "metadata": {
  "kernelspec": {
   "display_name": "Python 3.8.10 64-bit",
   "language": "python",
   "name": "python3"
  },
  "language_info": {
   "codemirror_mode": {
    "name": "ipython",
    "version": 3
   },
   "file_extension": ".py",
   "mimetype": "text/x-python",
   "name": "python",
   "nbconvert_exporter": "python",
   "pygments_lexer": "ipython3",
   "version": "3.8.10"
  },
  "vscode": {
   "interpreter": {
    "hash": "e7370f93d1d0cde622a1f8e1c04877d8463912d04d973331ad4851f04de6915a"
   }
  }
 },
 "nbformat": 4,
 "nbformat_minor": 2
}
